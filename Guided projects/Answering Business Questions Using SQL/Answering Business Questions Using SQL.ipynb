{
 "cells": [
  {
   "cell_type": "markdown",
   "metadata": {
    "collapsed": true
   },
   "source": [
    "# Answering Business Questions using SQL\n",
    "\n",
    "In this project, we'll use Pandas and SQL to perform data analysis and create data visualizations.\n",
    "\n",
    "We will address the following questions:\n",
    "  1. Selecting albums to purchase.\n",
    "  2. Analyzing employees' sales performance\n",
    "  3. Analyzing sales by country\n",
    "  4. Analyzing purchased and not-purchased tracks\n"
   ]
  },
  {
   "cell_type": "markdown",
   "metadata": {},
   "source": [
    "# Connect to chinook database"
   ]
  },
  {
   "cell_type": "code",
   "execution_count": 1,
   "metadata": {
    "collapsed": false
   },
   "outputs": [
    {
     "data": {
      "text/plain": [
       "'Connected: None@chinook.db'"
      ]
     },
     "execution_count": 1,
     "metadata": {},
     "output_type": "execute_result"
    }
   ],
   "source": [
    "%%capture\n",
    "%load_ext sql\n",
    "%sql sqlite:///chinook.db"
   ]
  },
  {
   "cell_type": "markdown",
   "metadata": {},
   "source": [
    "# Import libraries"
   ]
  },
  {
   "cell_type": "code",
   "execution_count": 2,
   "metadata": {
    "collapsed": true
   },
   "outputs": [],
   "source": [
    "import sqlite3 \n",
    "import matplotlib\n",
    "import matplotlib.pyplot as plt\n",
    "%matplotlib inline\n",
    "import pandas as pd\n",
    "import datetime"
   ]
  },
  {
   "cell_type": "markdown",
   "metadata": {},
   "source": [
    "# Create helper function"
   ]
  },
  {
   "cell_type": "code",
   "execution_count": 3,
   "metadata": {
    "collapsed": true
   },
   "outputs": [],
   "source": [
    "def convert_df(q):\n",
    "    #Take a query and return a pandas dataframe\n",
    "    with sqlite3.connect('chinook.db') as conn:\n",
    "        return pd.read_sql(q, conn)"
   ]
  },
  {
   "cell_type": "markdown",
   "metadata": {},
   "source": [
    "# Overview of the Data"
   ]
  },
  {
   "cell_type": "code",
   "execution_count": 4,
   "metadata": {
    "collapsed": false
   },
   "outputs": [
    {
     "name": "stdout",
     "output_type": "stream",
     "text": [
      "Done.\n"
     ]
    },
    {
     "data": {
      "text/html": [
       "<table>\n",
       "    <tr>\n",
       "        <th>name</th>\n",
       "        <th>type</th>\n",
       "    </tr>\n",
       "    <tr>\n",
       "        <td>album</td>\n",
       "        <td>table</td>\n",
       "    </tr>\n",
       "    <tr>\n",
       "        <td>artist</td>\n",
       "        <td>table</td>\n",
       "    </tr>\n",
       "    <tr>\n",
       "        <td>customer</td>\n",
       "        <td>table</td>\n",
       "    </tr>\n",
       "    <tr>\n",
       "        <td>employee</td>\n",
       "        <td>table</td>\n",
       "    </tr>\n",
       "    <tr>\n",
       "        <td>genre</td>\n",
       "        <td>table</td>\n",
       "    </tr>\n",
       "    <tr>\n",
       "        <td>invoice</td>\n",
       "        <td>table</td>\n",
       "    </tr>\n",
       "    <tr>\n",
       "        <td>invoice_line</td>\n",
       "        <td>table</td>\n",
       "    </tr>\n",
       "    <tr>\n",
       "        <td>media_type</td>\n",
       "        <td>table</td>\n",
       "    </tr>\n",
       "    <tr>\n",
       "        <td>playlist</td>\n",
       "        <td>table</td>\n",
       "    </tr>\n",
       "    <tr>\n",
       "        <td>playlist_track</td>\n",
       "        <td>table</td>\n",
       "    </tr>\n",
       "    <tr>\n",
       "        <td>track</td>\n",
       "        <td>table</td>\n",
       "    </tr>\n",
       "    <tr>\n",
       "        <td>track_album</td>\n",
       "        <td>view</td>\n",
       "    </tr>\n",
       "</table>"
      ],
      "text/plain": [
       "[('album', 'table'),\n",
       " ('artist', 'table'),\n",
       " ('customer', 'table'),\n",
       " ('employee', 'table'),\n",
       " ('genre', 'table'),\n",
       " ('invoice', 'table'),\n",
       " ('invoice_line', 'table'),\n",
       " ('media_type', 'table'),\n",
       " ('playlist', 'table'),\n",
       " ('playlist_track', 'table'),\n",
       " ('track', 'table'),\n",
       " ('track_album', 'view')]"
      ]
     },
     "execution_count": 4,
     "metadata": {},
     "output_type": "execute_result"
    }
   ],
   "source": [
    "%%sql\n",
    "SELECT \n",
    "    name,\n",
    "    type\n",
    "FROM sqlite_master\n",
    "WHERE type IN (\"table\", \"view\");"
   ]
  },
  {
   "cell_type": "markdown",
   "metadata": {
    "collapsed": true
   },
   "source": [
    "# Selecting albums to purchase"
   ]
  },
  {
   "cell_type": "code",
   "execution_count": 5,
   "metadata": {
    "collapsed": false
   },
   "outputs": [
    {
     "data": {
      "text/html": [
       "<div>\n",
       "<style scoped>\n",
       "    .dataframe tbody tr th:only-of-type {\n",
       "        vertical-align: middle;\n",
       "    }\n",
       "\n",
       "    .dataframe tbody tr th {\n",
       "        vertical-align: top;\n",
       "    }\n",
       "\n",
       "    .dataframe thead th {\n",
       "        text-align: right;\n",
       "    }\n",
       "</style>\n",
       "<table border=\"1\" class=\"dataframe\">\n",
       "  <thead>\n",
       "    <tr style=\"text-align: right;\">\n",
       "      <th></th>\n",
       "      <th>genre</th>\n",
       "      <th>num_track_sold</th>\n",
       "      <th>percentage_track_sold</th>\n",
       "    </tr>\n",
       "  </thead>\n",
       "  <tbody>\n",
       "    <tr>\n",
       "      <th>0</th>\n",
       "      <td>Rock</td>\n",
       "      <td>561</td>\n",
       "      <td>53.3777</td>\n",
       "    </tr>\n",
       "    <tr>\n",
       "      <th>1</th>\n",
       "      <td>Alternative &amp; Punk</td>\n",
       "      <td>130</td>\n",
       "      <td>12.3692</td>\n",
       "    </tr>\n",
       "    <tr>\n",
       "      <th>2</th>\n",
       "      <td>Metal</td>\n",
       "      <td>124</td>\n",
       "      <td>11.7983</td>\n",
       "    </tr>\n",
       "    <tr>\n",
       "      <th>3</th>\n",
       "      <td>R&amp;B/Soul</td>\n",
       "      <td>53</td>\n",
       "      <td>5.0428</td>\n",
       "    </tr>\n",
       "    <tr>\n",
       "      <th>4</th>\n",
       "      <td>Blues</td>\n",
       "      <td>36</td>\n",
       "      <td>3.4253</td>\n",
       "    </tr>\n",
       "    <tr>\n",
       "      <th>5</th>\n",
       "      <td>Alternative</td>\n",
       "      <td>35</td>\n",
       "      <td>3.3302</td>\n",
       "    </tr>\n",
       "    <tr>\n",
       "      <th>6</th>\n",
       "      <td>Latin</td>\n",
       "      <td>22</td>\n",
       "      <td>2.0932</td>\n",
       "    </tr>\n",
       "    <tr>\n",
       "      <th>7</th>\n",
       "      <td>Pop</td>\n",
       "      <td>22</td>\n",
       "      <td>2.0932</td>\n",
       "    </tr>\n",
       "    <tr>\n",
       "      <th>8</th>\n",
       "      <td>Hip Hop/Rap</td>\n",
       "      <td>20</td>\n",
       "      <td>1.9029</td>\n",
       "    </tr>\n",
       "    <tr>\n",
       "      <th>9</th>\n",
       "      <td>Jazz</td>\n",
       "      <td>14</td>\n",
       "      <td>1.3321</td>\n",
       "    </tr>\n",
       "  </tbody>\n",
       "</table>\n",
       "</div>"
      ],
      "text/plain": [
       "                genre  num_track_sold  percentage_track_sold\n",
       "0                Rock             561                53.3777\n",
       "1  Alternative & Punk             130                12.3692\n",
       "2               Metal             124                11.7983\n",
       "3            R&B/Soul              53                 5.0428\n",
       "4               Blues              36                 3.4253\n",
       "5         Alternative              35                 3.3302\n",
       "6               Latin              22                 2.0932\n",
       "7                 Pop              22                 2.0932\n",
       "8         Hip Hop/Rap              20                 1.9029\n",
       "9                Jazz              14                 1.3321"
      ]
     },
     "execution_count": 5,
     "metadata": {},
     "output_type": "execute_result"
    }
   ],
   "source": [
    "genre_query = '''\n",
    "SELECT\n",
    "    g.name genre,\n",
    "    SUM(il.quantity) num_track_sold,\n",
    "    ROUND(CAST(SUM(il.quantity) AS FLOAT)/(SELECT\n",
    "                         SUM(il.quantity) total_track_sold\n",
    "                         FROM genre g\n",
    "                         INNER JOIN track t ON g.genre_id = t.genre_id\n",
    "                         INNER JOIN invoice_line il ON il.track_id = t.track_id\n",
    "                         INNER JOIN invoice i ON i.invoice_id = il.invoice_id\n",
    "                         WHERE i.billing_country = 'USA') * 100, 4) percentage_track_sold\n",
    "FROM genre g\n",
    "INNER JOIN track t ON g.genre_id = t.genre_id\n",
    "INNER JOIN invoice_line il ON il.track_id = t.track_id\n",
    "INNER JOIN invoice i ON i.invoice_id = il.invoice_id\n",
    "WHERE i.billing_country = 'USA'\n",
    "GROUP BY g.name\n",
    "ORDER BY 2 DESC\n",
    "LIMIT 10\n",
    "'''\n",
    "\n",
    "genre_df = convert_df(genre_query)\n",
    "genre_df"
   ]
  },
  {
   "cell_type": "code",
   "execution_count": 6,
   "metadata": {
    "collapsed": false
   },
   "outputs": [
    {
     "data": {
      "text/plain": [
       "<matplotlib.text.Text at 0x7efcc2bce3c8>"
      ]
     },
     "execution_count": 6,
     "metadata": {},
     "output_type": "execute_result"
    },
    {
     "data": {
      "image/png": "[encoded data removed]",
      "text/plain": [
       "<matplotlib.figure.Figure at 0x7efcd7782358>"
      ]
     },
     "metadata": {},
     "output_type": "display_data"
    }
   ],
   "source": [
    "genre_df.plot(kind = 'barh', x = 'genre', y = 'num_track_sold', title = 'Number of tracks sold in the USA by genres', legend = False)\n",
    "plt.ylabel('')"
   ]
  },
  {
   "cell_type": "markdown",
   "metadata": {},
   "source": [
    "Based on the sales of tracks across different genres in the US, rock accounts for over 53% of sales is the most favorite genre. Alternative & Punk and Metal are the second and third most favorite genre in the US, with around 12.4% and 11.8% of sales, respectively."
   ]
  },
  {
   "cell_type": "markdown",
   "metadata": {
    "collapsed": true
   },
   "source": [
    "# Analyzing Employee Sales Performance"
   ]
  },
  {
   "cell_type": "code",
   "execution_count": 7,
   "metadata": {
    "collapsed": false
   },
   "outputs": [
    {
     "data": {
      "text/html": [
       "<div>\n",
       "<style scoped>\n",
       "    .dataframe tbody tr th:only-of-type {\n",
       "        vertical-align: middle;\n",
       "    }\n",
       "\n",
       "    .dataframe tbody tr th {\n",
       "        vertical-align: top;\n",
       "    }\n",
       "\n",
       "    .dataframe thead th {\n",
       "        text-align: right;\n",
       "    }\n",
       "</style>\n",
       "<table border=\"1\" class=\"dataframe\">\n",
       "  <thead>\n",
       "    <tr style=\"text-align: right;\">\n",
       "      <th></th>\n",
       "      <th>employee</th>\n",
       "      <th>sales_total</th>\n",
       "      <th>hire_date</th>\n",
       "    </tr>\n",
       "  </thead>\n",
       "  <tbody>\n",
       "    <tr>\n",
       "      <th>0</th>\n",
       "      <td>Jane Peacock</td>\n",
       "      <td>1731.51</td>\n",
       "      <td>2017-04-01 00:00:00</td>\n",
       "    </tr>\n",
       "    <tr>\n",
       "      <th>1</th>\n",
       "      <td>Margaret Park</td>\n",
       "      <td>1584.00</td>\n",
       "      <td>2017-05-03 00:00:00</td>\n",
       "    </tr>\n",
       "    <tr>\n",
       "      <th>2</th>\n",
       "      <td>Steve Johnson</td>\n",
       "      <td>1393.92</td>\n",
       "      <td>2017-10-17 00:00:00</td>\n",
       "    </tr>\n",
       "  </tbody>\n",
       "</table>\n",
       "</div>"
      ],
      "text/plain": [
       "        employee  sales_total            hire_date\n",
       "0   Jane Peacock      1731.51  2017-04-01 00:00:00\n",
       "1  Margaret Park      1584.00  2017-05-03 00:00:00\n",
       "2  Steve Johnson      1393.92  2017-10-17 00:00:00"
      ]
     },
     "execution_count": 7,
     "metadata": {},
     "output_type": "execute_result"
    }
   ],
   "source": [
    "sales_query = '''\n",
    "SELECT\n",
    "    e.first_name || \" \" || e.last_name employee,\n",
    "    ROUND(SUM(i.total), 2) sales_total,\n",
    "    e.hire_date hire_date\n",
    "FROM employee e\n",
    "INNER JOIN customer c ON c.support_rep_id = e.employee_id\n",
    "INNER JOIN invoice i ON i.customer_id = c.customer_id\n",
    "WHERE title = 'Sales Support Agent'\n",
    "GROUP BY 1\n",
    "'''\n",
    "sales_df = convert_df(sales_query)\n",
    "sales_df"
   ]
  },
  {
   "cell_type": "code",
   "execution_count": 8,
   "metadata": {
    "collapsed": false
   },
   "outputs": [
    {
     "data": {
      "image/png": "[encoded data removed]",
      "text/plain": [
       "<matplotlib.figure.Figure at 0x7efcc2afc4a8>"
      ]
     },
     "metadata": {},
     "output_type": "display_data"
    }
   ],
   "source": [
    "sales_df.plot(kind = 'barh', x = 'employee', y = 'sales_total', title = 'Total sales of our employees', legend = False)\n",
    "plt.ylabel('')\n",
    "plt.tick_params(bottom=\"off\", top=\"off\", left=\"off\", right=\"off\")\n",
    "plt.show()"
   ]
  },
  {
   "cell_type": "markdown",
   "metadata": {},
   "source": [
    "Based on the graph and the table above, Jane had the highest total sales while Steve's total sales were the lowest. However, we cannot conclude that Jane's performance was better than Margaret or Steve because they started working on different dates."
   ]
  },
  {
   "cell_type": "markdown",
   "metadata": {
    "collapsed": true
   },
   "source": [
    "# Analyzing Sales by Country"
   ]
  },
  {
   "cell_type": "code",
   "execution_count": 9,
   "metadata": {
    "collapsed": false
   },
   "outputs": [
    {
     "data": {
      "text/html": [
       "<div>\n",
       "<style scoped>\n",
       "    .dataframe tbody tr th:only-of-type {\n",
       "        vertical-align: middle;\n",
       "    }\n",
       "\n",
       "    .dataframe tbody tr th {\n",
       "        vertical-align: top;\n",
       "    }\n",
       "\n",
       "    .dataframe thead th {\n",
       "        text-align: right;\n",
       "    }\n",
       "</style>\n",
       "<table border=\"1\" class=\"dataframe\">\n",
       "  <thead>\n",
       "    <tr style=\"text-align: right;\">\n",
       "      <th></th>\n",
       "      <th>country</th>\n",
       "      <th>num_customer</th>\n",
       "      <th>total_value_sales</th>\n",
       "      <th>sales_per_customer</th>\n",
       "      <th>avg_order_value</th>\n",
       "    </tr>\n",
       "  </thead>\n",
       "  <tbody>\n",
       "    <tr>\n",
       "      <th>0</th>\n",
       "      <td>USA</td>\n",
       "      <td>13</td>\n",
       "      <td>1040.49</td>\n",
       "      <td>80.04</td>\n",
       "      <td>7.94</td>\n",
       "    </tr>\n",
       "    <tr>\n",
       "      <th>1</th>\n",
       "      <td>Canada</td>\n",
       "      <td>8</td>\n",
       "      <td>535.59</td>\n",
       "      <td>66.95</td>\n",
       "      <td>7.05</td>\n",
       "    </tr>\n",
       "    <tr>\n",
       "      <th>2</th>\n",
       "      <td>Brazil</td>\n",
       "      <td>5</td>\n",
       "      <td>427.68</td>\n",
       "      <td>85.54</td>\n",
       "      <td>7.01</td>\n",
       "    </tr>\n",
       "    <tr>\n",
       "      <th>3</th>\n",
       "      <td>France</td>\n",
       "      <td>5</td>\n",
       "      <td>389.07</td>\n",
       "      <td>77.81</td>\n",
       "      <td>7.78</td>\n",
       "    </tr>\n",
       "    <tr>\n",
       "      <th>4</th>\n",
       "      <td>Germany</td>\n",
       "      <td>4</td>\n",
       "      <td>334.62</td>\n",
       "      <td>83.66</td>\n",
       "      <td>8.16</td>\n",
       "    </tr>\n",
       "    <tr>\n",
       "      <th>5</th>\n",
       "      <td>Czech Republic</td>\n",
       "      <td>2</td>\n",
       "      <td>273.24</td>\n",
       "      <td>136.62</td>\n",
       "      <td>9.11</td>\n",
       "    </tr>\n",
       "    <tr>\n",
       "      <th>6</th>\n",
       "      <td>United Kingdom</td>\n",
       "      <td>3</td>\n",
       "      <td>245.52</td>\n",
       "      <td>81.84</td>\n",
       "      <td>8.77</td>\n",
       "    </tr>\n",
       "    <tr>\n",
       "      <th>7</th>\n",
       "      <td>Portugal</td>\n",
       "      <td>2</td>\n",
       "      <td>185.13</td>\n",
       "      <td>92.57</td>\n",
       "      <td>6.38</td>\n",
       "    </tr>\n",
       "    <tr>\n",
       "      <th>8</th>\n",
       "      <td>India</td>\n",
       "      <td>2</td>\n",
       "      <td>183.15</td>\n",
       "      <td>91.57</td>\n",
       "      <td>8.72</td>\n",
       "    </tr>\n",
       "    <tr>\n",
       "      <th>9</th>\n",
       "      <td>Others</td>\n",
       "      <td>15</td>\n",
       "      <td>1094.94</td>\n",
       "      <td>73.00</td>\n",
       "      <td>7.45</td>\n",
       "    </tr>\n",
       "  </tbody>\n",
       "</table>\n",
       "</div>"
      ],
      "text/plain": [
       "          country  num_customer  total_value_sales  sales_per_customer  \\\n",
       "0             USA            13            1040.49               80.04   \n",
       "1          Canada             8             535.59               66.95   \n",
       "2          Brazil             5             427.68               85.54   \n",
       "3          France             5             389.07               77.81   \n",
       "4         Germany             4             334.62               83.66   \n",
       "5  Czech Republic             2             273.24              136.62   \n",
       "6  United Kingdom             3             245.52               81.84   \n",
       "7        Portugal             2             185.13               92.57   \n",
       "8           India             2             183.15               91.57   \n",
       "9          Others            15            1094.94               73.00   \n",
       "\n",
       "   avg_order_value  \n",
       "0             7.94  \n",
       "1             7.05  \n",
       "2             7.01  \n",
       "3             7.78  \n",
       "4             8.16  \n",
       "5             9.11  \n",
       "6             8.77  \n",
       "7             6.38  \n",
       "8             8.72  \n",
       "9             7.45  "
      ]
     },
     "execution_count": 9,
     "metadata": {},
     "output_type": "execute_result"
    }
   ],
   "source": [
    "country_query = '''\n",
    "\n",
    "WITH \n",
    "table_1 as (\n",
    "    SELECT \n",
    "        c.country country,\n",
    "        COUNT(DISTINCT c.customer_id) num_customer,\n",
    "        SUM(i.total) total_value_sales,\n",
    "        CAST(SUM(i.total) AS FLOAT)/COUNT(DISTINCT c.customer_id) sales_per_customer,\n",
    "        CAST(SUM(i.total) AS FLOAT)/COUNT(i.invoice_id) avg_order_value,\n",
    "        COUNT(i.invoice_id) num_order,\n",
    "        CASE\n",
    "            WHEN COUNT(DISTINCT c.customer_id) = 1 THEN 'Others'\n",
    "            ELSE c.country\n",
    "        END AS country_name\n",
    "    FROM customer c\n",
    "    INNER JOIN invoice i ON i.customer_id = c.customer_id\n",
    "    GROUP BY c.country),\n",
    "table_2 as (\n",
    "    SELECT *\n",
    "    FROM table_1\n",
    "    WHERE country_name = 'Others'),\n",
    "table_3 as (\n",
    "    SELECT\n",
    "        country_name country,\n",
    "        SUM(num_customer) num_customer,\n",
    "        SUM(total_value_sales) total_value_sales,\n",
    "        SUM(total_value_sales)/SUM(num_customer) sales_per_customer,\n",
    "        SUM(total_value_sales)/(SELECT SUM(num_order) FROM table_1 WHERE country_name = 'Others') avg_order_value\n",
    "    FROM table_2\n",
    "    GROUP BY 1),\n",
    "table_4 as (\n",
    "    SELECT \n",
    "        country,\n",
    "        num_customer,\n",
    "        total_value_sales,\n",
    "        sales_per_customer,\n",
    "        avg_order_value\n",
    "    FROM table_1\n",
    "    WHERE num_customer <> 1),\n",
    "table_5 as (\n",
    "    SELECT * FROM table_4\n",
    "    UNION\n",
    "    SELECT * FROM table_3)\n",
    "\n",
    "SELECT \n",
    "    country, \n",
    "    num_customer,\n",
    "    ROUND(total_value_sales, 2) total_value_sales,\n",
    "    ROUND(sales_per_customer, 2) sales_per_customer,\n",
    "    ROUND(avg_order_value, 2) avg_order_value\n",
    "FROM (SELECT \n",
    "        *,\n",
    "        CASE\n",
    "            WHEN country = 'Others' THEN 1\n",
    "            ELSE 0\n",
    "        END AS sort\n",
    "    FROM table_5)\n",
    "ORDER BY sort, total_value_sales DESC\n",
    "'''\n",
    "country_df = convert_df(country_query)\n",
    "country_wo_others = country_df.iloc[0:-1,:]\n",
    "country_df"
   ]
  },
  {
   "cell_type": "code",
   "execution_count": 10,
   "metadata": {
    "collapsed": false
   },
   "outputs": [
    {
     "data": {
      "image/png": "[encoded data removed]",
      "text/plain": [
       "<matplotlib.figure.Figure at 0x7efcc2aea748>"
      ]
     },
     "metadata": {},
     "output_type": "display_data"
    }
   ],
   "source": [
    "country_wo_others.plot(kind = 'barh', x = 'country', y = 'total_value_sales', title = 'Total sales by countries', legend = False)\n",
    "plt.ylabel = ''\n",
    "plt.tick_params(bottom=\"off\", top=\"off\", left=\"off\", right=\"off\")\n",
    "plt.show()"
   ]
  },
  {
   "cell_type": "code",
   "execution_count": 11,
   "metadata": {
    "collapsed": false
   },
   "outputs": [
    {
     "data": {
      "image/png": "[encoded data removed]",
      "text/plain": [
       "<matplotlib.figure.Figure at 0x7efcc29a82b0>"
      ]
     },
     "metadata": {},
     "output_type": "display_data"
    }
   ],
   "source": [
    "country_df.plot(kind = 'barh', x = 'country', y = 'sales_per_customer', title = 'Sales per customer', legend = False)\n",
    "plt.ylabel = ''\n",
    "plt.tick_params(bottom=\"off\", top=\"off\", left=\"off\", right=\"off\")\n",
    "plt.show()"
   ]
  },
  {
   "cell_type": "code",
   "execution_count": 12,
   "metadata": {
    "collapsed": false
   },
   "outputs": [
    {
     "data": {
      "image/png": "[encoded data removed]",
      "text/plain": [
       "<matplotlib.figure.Figure at 0x7efcc292d320>"
      ]
     },
     "metadata": {},
     "output_type": "display_data"
    }
   ],
   "source": [
    "country_df.plot(kind = 'barh', x = 'country', y = 'avg_order_value', title = 'Average value of orders', legend = False)\n",
    "plt.ylabel = ''\n",
    "plt.tick_params(bottom=\"off\", top=\"off\", left=\"off\", right=\"off\")\n",
    "plt.show()"
   ]
  },
  {
   "cell_type": "markdown",
   "metadata": {},
   "source": [
    "Based on the graph of Total sales by country, the US has the highest total sales. However, the sales per customer and Average value of orders graphs show that the Czech Republic and India can be two potential countries."
   ]
  },
  {
   "cell_type": "markdown",
   "metadata": {},
   "source": [
    "# Purchased vs Not purchased Tracks"
   ]
  },
  {
   "cell_type": "code",
   "execution_count": 23,
   "metadata": {
    "collapsed": false
   },
   "outputs": [
    {
     "data": {
      "text/html": [
       "<div>\n",
       "<style scoped>\n",
       "    .dataframe tbody tr th:only-of-type {\n",
       "        vertical-align: middle;\n",
       "    }\n",
       "\n",
       "    .dataframe tbody tr th {\n",
       "        vertical-align: top;\n",
       "    }\n",
       "\n",
       "    .dataframe thead th {\n",
       "        text-align: right;\n",
       "    }\n",
       "</style>\n",
       "<table border=\"1\" class=\"dataframe\">\n",
       "  <thead>\n",
       "    <tr style=\"text-align: right;\">\n",
       "      <th></th>\n",
       "      <th>status</th>\n",
       "      <th>num_track</th>\n",
       "      <th>percentage</th>\n",
       "    </tr>\n",
       "  </thead>\n",
       "  <tbody>\n",
       "    <tr>\n",
       "      <th>0</th>\n",
       "      <td>Not purchased</td>\n",
       "      <td>1697</td>\n",
       "      <td>0.484442</td>\n",
       "    </tr>\n",
       "    <tr>\n",
       "      <th>1</th>\n",
       "      <td>Purchased</td>\n",
       "      <td>1806</td>\n",
       "      <td>0.515558</td>\n",
       "    </tr>\n",
       "  </tbody>\n",
       "</table>\n",
       "</div>"
      ],
      "text/plain": [
       "          status  num_track  percentage\n",
       "0  Not purchased       1697    0.484442\n",
       "1      Purchased       1806    0.515558"
      ]
     },
     "execution_count": 23,
     "metadata": {},
     "output_type": "execute_result"
    }
   ],
   "source": [
    "status_query = '''\n",
    "WITH track_status as\n",
    "(SELECT\n",
    "    t.track_id track_id,\n",
    "    il.invoice_line_id invoice_line_id,\n",
    "    CASE\n",
    "        WHEN il.invoice_line_id IS NULL THEN 'Not purchased'\n",
    "        ELSE 'Purchased'\n",
    "    END AS status\n",
    "FROM track t\n",
    "LEFT JOIN invoice_line il ON il.track_id = t.track_id)\n",
    "\n",
    "SELECT\n",
    "    status,\n",
    "    COUNT(DISTINCT track_id) num_track,\n",
    "    (CAST(COUNT(DISTINCT track_id) AS FLOAT) / (1697 + 1806)) percentage \n",
    "FROM track_status\n",
    "GROUP BY status\n",
    "'''\n",
    "status_df = convert_df(status_query)\n",
    "status_df"
   ]
  },
  {
   "cell_type": "code",
   "execution_count": 31,
   "metadata": {
    "collapsed": false
   },
   "outputs": [
    {
     "data": {
      "text/plain": [
       "([<matplotlib.patches.Wedge at 0x7efc9d0cf400>,\n",
       "  <matplotlib.patches.Wedge at 0x7efc9d0d7c18>],\n",
       " [<matplotlib.text.Text at 0x7efc9d0d7198>,\n",
       "  <matplotlib.text.Text at 0x7efc9d05ca20>],\n",
       " [<matplotlib.text.Text at 0x7efc9d0d76d8>,\n",
       "  <matplotlib.text.Text at 0x7efc9d05cf98>])"
      ]
     },
     "execution_count": 31,
     "metadata": {},
     "output_type": "execute_result"
    },
    {
     "data": {
      "image/png": "[encoded data removed]",
      "text/plain": [
       "<matplotlib.figure.Figure at 0x7efc9d136198>"
      ]
     },
     "metadata": {},
     "output_type": "display_data"
    }
   ],
   "source": [
    "labels = status_df['status']\n",
    "sizes = status_df['num_track']\n",
    "\n",
    "fig, ax = plt.subplots()\n",
    "ax.pie(sizes, labels = labels, startangle = 90, autopct = '%1.1f%%', shadow = True, explode = (0, 0.1))"
   ]
  },
  {
   "cell_type": "markdown",
   "metadata": {},
   "source": [
    "The percentage of purchased tracks is slightly higher than that of not-purchased tracks based on the graph. It suggests that we explore not-purchased tracks to see whether we should keep buying these or spend money on buying more purchased tracks."
   ]
  },
  {
   "cell_type": "code",
   "execution_count": null,
   "metadata": {
    "collapsed": true
   },
   "outputs": [],
   "source": []
  }
 ],
 "metadata": {
  "kernelspec": {
   "display_name": "Python 3",
   "language": "python",
   "name": "python3"
  },
  "language_info": {
   "codemirror_mode": {
    "name": "ipython",
    "version": 3
   },
   "file_extension": ".py",
   "mimetype": "text/x-python",
   "name": "python",
   "nbconvert_exporter": "python",
   "pygments_lexer": "ipython3",
   "version": "3.4.3"
  }
 },
 "nbformat": 4,
 "nbformat_minor": 2
}
